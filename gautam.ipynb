{
 "cells": [
  {
   "cell_type": "code",
   "execution_count": 1,
   "metadata": {},
   "outputs": [
    {
     "name": "stdout",
     "output_type": "stream",
     "text": [
      "['a']\n"
     ]
    }
   ],
   "source": [
    "class stack:\n",
    "\tdef __init__(self):\n",
    "\t\t\tself.items=[]\n",
    "\t\t   \n",
    "\tdef push(self,item):\n",
    "\t\t\tself.items.append(item)\n",
    "\t\t\n",
    "\tdef pop(self):\n",
    "\t\t\tself.items.pop()\n",
    "\t\t\n",
    "\tdef isempty(self):\n",
    "\t\t\treturn (self.items==[])\n",
    "\t\t\t\t\n",
    "\t\t\n",
    "\t\t\t\t\n",
    "obj=stack()\n",
    "obj.push('a')\n",
    "obj.push(2)\n",
    "obj.pop()\n",
    "print(obj.items)\n",
    "\n",
    "\n"
   ]
  },
  {
   "cell_type": "code",
   "execution_count": null,
   "metadata": {},
   "outputs": [],
   "source": []
  }
 ],
 "metadata": {
  "kernelspec": {
   "display_name": "Python 3",
   "language": "python",
   "name": "python3"
  },
  "language_info": {
   "codemirror_mode": {
    "name": "ipython",
    "version": 3
   },
   "file_extension": ".py",
   "mimetype": "text/x-python",
   "name": "python",
   "nbconvert_exporter": "python",
   "pygments_lexer": "ipython3",
   "version": "3.6.7"
  }
 },
 "nbformat": 4,
 "nbformat_minor": 2
}
